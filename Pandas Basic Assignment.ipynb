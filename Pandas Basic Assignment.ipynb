{
 "cells": [
  {
   "cell_type": "code",
   "execution_count": 1,
   "id": "927b2316-f6a5-4f99-bde7-a8df1b30694b",
   "metadata": {},
   "outputs": [],
   "source": [
    "#Q1\n"
   ]
  },
  {
   "cell_type": "code",
   "execution_count": 3,
   "id": "e3c10dee-de3f-4479-9063-daf1c91cf3a4",
   "metadata": {},
   "outputs": [],
   "source": [
    "import pandas as pd"
   ]
  },
  {
   "cell_type": "code",
   "execution_count": 46,
   "id": "a6008681-3d15-4a39-bd91-0901aa2ed4ba",
   "metadata": {},
   "outputs": [],
   "source": [
    "list = [4,8,15,16,23,42]"
   ]
  },
  {
   "cell_type": "code",
   "execution_count": 47,
   "id": "4e92059f-7f91-4538-a289-e9eab17a064c",
   "metadata": {},
   "outputs": [],
   "source": [
    "series = pd.Series(list)"
   ]
  },
  {
   "cell_type": "code",
   "execution_count": 9,
   "id": "03339165-a583-4568-808d-ec9f4dabcf24",
   "metadata": {},
   "outputs": [
    {
     "data": {
      "text/plain": [
       "pandas.core.series.Series"
      ]
     },
     "execution_count": 9,
     "metadata": {},
     "output_type": "execute_result"
    }
   ],
   "source": [
    "type(series)"
   ]
  },
  {
   "cell_type": "code",
   "execution_count": 10,
   "id": "41b8bf34-04da-425a-acd7-41d53e409856",
   "metadata": {},
   "outputs": [],
   "source": [
    "#Q2"
   ]
  },
  {
   "cell_type": "code",
   "execution_count": 13,
   "id": "c578cb50-02cb-48de-b21f-7f137cc62f02",
   "metadata": {},
   "outputs": [],
   "source": [
    "list_2 = [4,8,15,16,23,42,\"43\",\"nitesh\",\"sjsk\",\"dsnjsd\"]"
   ]
  },
  {
   "cell_type": "code",
   "execution_count": 14,
   "id": "16a435e0-0c56-4736-bb54-79e7b3d70032",
   "metadata": {},
   "outputs": [],
   "source": [
    "variable_series = pd.Series(list_2)"
   ]
  },
  {
   "cell_type": "code",
   "execution_count": 15,
   "id": "3e584de9-4700-4653-afd8-97c7dda7267c",
   "metadata": {},
   "outputs": [
    {
     "data": {
      "text/plain": [
       "0         4\n",
       "1         8\n",
       "2        15\n",
       "3        16\n",
       "4        23\n",
       "5        42\n",
       "6        43\n",
       "7    nitesh\n",
       "8      sjsk\n",
       "9    dsnjsd\n",
       "dtype: object"
      ]
     },
     "execution_count": 15,
     "metadata": {},
     "output_type": "execute_result"
    }
   ],
   "source": [
    "variable_series"
   ]
  },
  {
   "cell_type": "code",
   "execution_count": 36,
   "id": "0621ddf6-3e86-4293-a1cd-bf2615bba753",
   "metadata": {},
   "outputs": [
    {
     "data": {
      "text/plain": [
       "str"
      ]
     },
     "execution_count": 36,
     "metadata": {},
     "output_type": "execute_result"
    }
   ],
   "source": [
    "type(variable_series[6])"
   ]
  },
  {
   "cell_type": "code",
   "execution_count": 17,
   "id": "33fa04e5-9251-4640-851c-d5bf990db0a6",
   "metadata": {},
   "outputs": [],
   "source": [
    "#Q3"
   ]
  },
  {
   "cell_type": "code",
   "execution_count": 53,
   "id": "afc996ae-aeb0-4116-b265-8ac16f47ec3e",
   "metadata": {},
   "outputs": [],
   "source": [
    "df  = pd.DataFrame({\"Name\" : (\"Alice\",\"Bob\",\"Claire\"), \"Age\" : (25,30,27),\"Gender\" : (\"Female\",\"Male\",\"Female\")})"
   ]
  },
  {
   "cell_type": "code",
   "execution_count": 54,
   "id": "fea554a2-41b7-43e3-8138-c77ab9521a7b",
   "metadata": {},
   "outputs": [
    {
     "data": {
      "text/html": [
       "<div>\n",
       "<style scoped>\n",
       "    .dataframe tbody tr th:only-of-type {\n",
       "        vertical-align: middle;\n",
       "    }\n",
       "\n",
       "    .dataframe tbody tr th {\n",
       "        vertical-align: top;\n",
       "    }\n",
       "\n",
       "    .dataframe thead th {\n",
       "        text-align: right;\n",
       "    }\n",
       "</style>\n",
       "<table border=\"1\" class=\"dataframe\">\n",
       "  <thead>\n",
       "    <tr style=\"text-align: right;\">\n",
       "      <th></th>\n",
       "      <th>Name</th>\n",
       "      <th>Age</th>\n",
       "      <th>Gender</th>\n",
       "    </tr>\n",
       "  </thead>\n",
       "  <tbody>\n",
       "    <tr>\n",
       "      <th>0</th>\n",
       "      <td>Alice</td>\n",
       "      <td>25</td>\n",
       "      <td>Female</td>\n",
       "    </tr>\n",
       "    <tr>\n",
       "      <th>1</th>\n",
       "      <td>Bob</td>\n",
       "      <td>30</td>\n",
       "      <td>Male</td>\n",
       "    </tr>\n",
       "    <tr>\n",
       "      <th>2</th>\n",
       "      <td>Claire</td>\n",
       "      <td>27</td>\n",
       "      <td>Female</td>\n",
       "    </tr>\n",
       "  </tbody>\n",
       "</table>\n",
       "</div>"
      ],
      "text/plain": [
       "     Name  Age  Gender\n",
       "0   Alice   25  Female\n",
       "1     Bob   30    Male\n",
       "2  Claire   27  Female"
      ]
     },
     "execution_count": 54,
     "metadata": {},
     "output_type": "execute_result"
    }
   ],
   "source": [
    "df"
   ]
  },
  {
   "cell_type": "code",
   "execution_count": 32,
   "id": "a3ed87d1-99f8-49bb-8e35-ed043be60bdf",
   "metadata": {},
   "outputs": [],
   "source": [
    "#Q4"
   ]
  },
  {
   "cell_type": "code",
   "execution_count": 34,
   "id": "5fa24bdc-7e2f-4883-b763-7467855eb6aa",
   "metadata": {},
   "outputs": [],
   "source": [
    "# DataFrame vs Series"
   ]
  },
  {
   "cell_type": "code",
   "execution_count": null,
   "id": "3b86a56f-ba8b-4390-a80e-11a57afc2f9b",
   "metadata": {},
   "outputs": [],
   "source": [
    "# A dataframe is a 2-D structure that can store multiple colmns of different data types.\n",
    "# A series is a 1-D array that can store a single column of any data type. "
   ]
  },
  {
   "cell_type": "code",
   "execution_count": 37,
   "id": "24f773f6-6549-4dcb-a178-15a2d91b3009",
   "metadata": {},
   "outputs": [],
   "source": [
    "#1 Series can have only one column whereas data frame can have multiple columns. "
   ]
  },
  {
   "cell_type": "code",
   "execution_count": 38,
   "id": "24e953ff-9082-41c3-923b-87798804128d",
   "metadata": {},
   "outputs": [],
   "source": [
    "#2 A series can only have one data type whereas data frame can have multiple data types for each column. /\n"
   ]
  },
  {
   "cell_type": "code",
   "execution_count": 39,
   "id": "3a730323-a73d-4dee-8b61-705a9c61d304",
   "metadata": {},
   "outputs": [],
   "source": [
    "#3 Operations behave differently "
   ]
  },
  {
   "cell_type": "code",
   "execution_count": 40,
   "id": "3f3c9d6c-637e-4047-a444-401fbeeb225d",
   "metadata": {},
   "outputs": [],
   "source": [
    "#4 Selections and filtering behave differently in some cases"
   ]
  },
  {
   "cell_type": "code",
   "execution_count": 41,
   "id": "c87accf3-6655-47f3-89cc-39656c57f1bd",
   "metadata": {},
   "outputs": [],
   "source": [
    "#Q5"
   ]
  },
  {
   "cell_type": "code",
   "execution_count": 42,
   "id": "f2e37452-c671-4add-8bee-11ac9367f5e2",
   "metadata": {},
   "outputs": [],
   "source": [
    "#manipulation : Reset index, drop column, add column , Drop duplicates etc"
   ]
  },
  {
   "cell_type": "code",
   "execution_count": 43,
   "id": "e8912865-6687-467d-b3e6-b5691abbc2e2",
   "metadata": {},
   "outputs": [],
   "source": [
    "# df.drop_duplicates([3],keep = 'last')"
   ]
  },
  {
   "cell_type": "code",
   "execution_count": 44,
   "id": "f9f15e2e-b583-4ec5-9315-c6eafd853f89",
   "metadata": {},
   "outputs": [],
   "source": [
    "#Q6"
   ]
  },
  {
   "cell_type": "code",
   "execution_count": 48,
   "id": "23470b85-2019-4eff-b747-c0aab18d01c5",
   "metadata": {},
   "outputs": [
    {
     "data": {
      "text/plain": [
       "0     4\n",
       "1     8\n",
       "2    15\n",
       "3    16\n",
       "4    23\n",
       "5    42\n",
       "dtype: int64"
      ]
     },
     "execution_count": 48,
     "metadata": {},
     "output_type": "execute_result"
    }
   ],
   "source": [
    "series"
   ]
  },
  {
   "cell_type": "code",
   "execution_count": 49,
   "id": "754a0424-9c12-42df-96f2-d818a7c7c875",
   "metadata": {},
   "outputs": [],
   "source": [
    "series[1] = 43"
   ]
  },
  {
   "cell_type": "code",
   "execution_count": 50,
   "id": "05be4573-03b9-4c60-be56-619e36b73a4b",
   "metadata": {},
   "outputs": [
    {
     "data": {
      "text/plain": [
       "0     4\n",
       "1    43\n",
       "2    15\n",
       "3    16\n",
       "4    23\n",
       "5    42\n",
       "dtype: int64"
      ]
     },
     "execution_count": 50,
     "metadata": {},
     "output_type": "execute_result"
    }
   ],
   "source": [
    "series"
   ]
  },
  {
   "cell_type": "code",
   "execution_count": 51,
   "id": "5a2e1ad4-41dc-498a-b6f7-60a1cb8f7c8b",
   "metadata": {},
   "outputs": [
    {
     "data": {
      "text/html": [
       "<div>\n",
       "<style scoped>\n",
       "    .dataframe tbody tr th:only-of-type {\n",
       "        vertical-align: middle;\n",
       "    }\n",
       "\n",
       "    .dataframe tbody tr th {\n",
       "        vertical-align: top;\n",
       "    }\n",
       "\n",
       "    .dataframe thead th {\n",
       "        text-align: right;\n",
       "    }\n",
       "</style>\n",
       "<table border=\"1\" class=\"dataframe\">\n",
       "  <thead>\n",
       "    <tr style=\"text-align: right;\">\n",
       "      <th></th>\n",
       "      <th>Name</th>\n",
       "      <th>Age</th>\n",
       "      <th>Gender</th>\n",
       "    </tr>\n",
       "  </thead>\n",
       "  <tbody>\n",
       "    <tr>\n",
       "      <th>1</th>\n",
       "      <td>Alice</td>\n",
       "      <td>25</td>\n",
       "      <td>Female</td>\n",
       "    </tr>\n",
       "    <tr>\n",
       "      <th>23</th>\n",
       "      <td>Bob</td>\n",
       "      <td>30</td>\n",
       "      <td>Male</td>\n",
       "    </tr>\n",
       "    <tr>\n",
       "      <th>43</th>\n",
       "      <td>Claire</td>\n",
       "      <td>27</td>\n",
       "      <td>Female</td>\n",
       "    </tr>\n",
       "  </tbody>\n",
       "</table>\n",
       "</div>"
      ],
      "text/plain": [
       "      Name  Age  Gender\n",
       "1    Alice   25  Female\n",
       "23     Bob   30    Male\n",
       "43  Claire   27  Female"
      ]
     },
     "execution_count": 51,
     "metadata": {},
     "output_type": "execute_result"
    }
   ],
   "source": [
    "df"
   ]
  },
  {
   "cell_type": "code",
   "execution_count": 70,
   "id": "d1423fa3-f8c2-4f9e-b0aa-4a9b3a946575",
   "metadata": {},
   "outputs": [],
   "source": [
    "df = df.drop(1,axis = 1)"
   ]
  },
  {
   "cell_type": "code",
   "execution_count": 71,
   "id": "cdcf13da-e066-40b7-8c5f-4bb7562ffacd",
   "metadata": {},
   "outputs": [
    {
     "data": {
      "text/html": [
       "<div>\n",
       "<style scoped>\n",
       "    .dataframe tbody tr th:only-of-type {\n",
       "        vertical-align: middle;\n",
       "    }\n",
       "\n",
       "    .dataframe tbody tr th {\n",
       "        vertical-align: top;\n",
       "    }\n",
       "\n",
       "    .dataframe thead th {\n",
       "        text-align: right;\n",
       "    }\n",
       "</style>\n",
       "<table border=\"1\" class=\"dataframe\">\n",
       "  <thead>\n",
       "    <tr style=\"text-align: right;\">\n",
       "      <th></th>\n",
       "      <th>Name</th>\n",
       "      <th>Age</th>\n",
       "      <th>Gender</th>\n",
       "    </tr>\n",
       "  </thead>\n",
       "  <tbody>\n",
       "    <tr>\n",
       "      <th>0</th>\n",
       "      <td>Alice</td>\n",
       "      <td>25</td>\n",
       "      <td>Female</td>\n",
       "    </tr>\n",
       "    <tr>\n",
       "      <th>1</th>\n",
       "      <td>Bob</td>\n",
       "      <td>30</td>\n",
       "      <td>Male</td>\n",
       "    </tr>\n",
       "    <tr>\n",
       "      <th>2</th>\n",
       "      <td>Claire</td>\n",
       "      <td>27</td>\n",
       "      <td>Female</td>\n",
       "    </tr>\n",
       "  </tbody>\n",
       "</table>\n",
       "</div>"
      ],
      "text/plain": [
       "     Name  Age  Gender\n",
       "0   Alice   25  Female\n",
       "1     Bob   30    Male\n",
       "2  Claire   27  Female"
      ]
     },
     "execution_count": 71,
     "metadata": {},
     "output_type": "execute_result"
    }
   ],
   "source": [
    "df"
   ]
  },
  {
   "cell_type": "code",
   "execution_count": 74,
   "id": "3ff8141c-db99-4f61-8c23-29600bd7d661",
   "metadata": {},
   "outputs": [
    {
     "name": "stderr",
     "output_type": "stream",
     "text": [
      "C:\\Users\\nitesh.sethia\\AppData\\Local\\Temp\\ipykernel_25532\\1596717303.py:1: SettingWithCopyWarning: \n",
      "A value is trying to be set on a copy of a slice from a DataFrame\n",
      "\n",
      "See the caveats in the documentation: https://pandas.pydata.org/pandas-docs/stable/user_guide/indexing.html#returning-a-view-versus-a-copy\n",
      "  df['Name'][2] = 'sujan'\n"
     ]
    }
   ],
   "source": [
    "df['Name'][2] = 'sujan'"
   ]
  },
  {
   "cell_type": "code",
   "execution_count": 75,
   "id": "cc3735cd-3d10-4244-a618-8481bd1f92af",
   "metadata": {},
   "outputs": [
    {
     "data": {
      "text/html": [
       "<div>\n",
       "<style scoped>\n",
       "    .dataframe tbody tr th:only-of-type {\n",
       "        vertical-align: middle;\n",
       "    }\n",
       "\n",
       "    .dataframe tbody tr th {\n",
       "        vertical-align: top;\n",
       "    }\n",
       "\n",
       "    .dataframe thead th {\n",
       "        text-align: right;\n",
       "    }\n",
       "</style>\n",
       "<table border=\"1\" class=\"dataframe\">\n",
       "  <thead>\n",
       "    <tr style=\"text-align: right;\">\n",
       "      <th></th>\n",
       "      <th>Name</th>\n",
       "      <th>Age</th>\n",
       "      <th>Gender</th>\n",
       "    </tr>\n",
       "  </thead>\n",
       "  <tbody>\n",
       "    <tr>\n",
       "      <th>0</th>\n",
       "      <td>Alice</td>\n",
       "      <td>25</td>\n",
       "      <td>Female</td>\n",
       "    </tr>\n",
       "    <tr>\n",
       "      <th>1</th>\n",
       "      <td>Bob</td>\n",
       "      <td>30</td>\n",
       "      <td>Male</td>\n",
       "    </tr>\n",
       "    <tr>\n",
       "      <th>2</th>\n",
       "      <td>sujan</td>\n",
       "      <td>27</td>\n",
       "      <td>Female</td>\n",
       "    </tr>\n",
       "  </tbody>\n",
       "</table>\n",
       "</div>"
      ],
      "text/plain": [
       "    Name  Age  Gender\n",
       "0  Alice   25  Female\n",
       "1    Bob   30    Male\n",
       "2  sujan   27  Female"
      ]
     },
     "execution_count": 75,
     "metadata": {},
     "output_type": "execute_result"
    }
   ],
   "source": [
    "df"
   ]
  },
  {
   "cell_type": "code",
   "execution_count": 76,
   "id": "37f7e6d0-2209-4b5f-bf9a-bde2063161dc",
   "metadata": {},
   "outputs": [],
   "source": [
    "# size can not be mutable in series, and data value can be mutable in all three/ "
   ]
  },
  {
   "cell_type": "code",
   "execution_count": 77,
   "id": "dca6f50e-010a-4547-b7d0-38b542fb1587",
   "metadata": {},
   "outputs": [],
   "source": [
    "#Q7"
   ]
  },
  {
   "cell_type": "code",
   "execution_count": 94,
   "id": "18599323-3295-4158-b93c-e42348fcd1d8",
   "metadata": {},
   "outputs": [],
   "source": [
    "list1 = [1,2,3,4,4,5,5,4]\n",
    "s1 = pd.Series(list1)"
   ]
  },
  {
   "cell_type": "code",
   "execution_count": 95,
   "id": "41418388-0b34-4907-b66f-825dc2b72e39",
   "metadata": {},
   "outputs": [],
   "source": [
    "list2 = [12,3,4,4,4,5,3,43]\n",
    "s2 = pd.Series(list2)"
   ]
  },
  {
   "cell_type": "code",
   "execution_count": 98,
   "id": "6a2dbb8e-9da1-45cf-bff8-80c494f0b821",
   "metadata": {},
   "outputs": [],
   "source": [
    "s3 = pd.concat([s1,s2],axis = 1)"
   ]
  },
  {
   "cell_type": "code",
   "execution_count": 99,
   "id": "def28e37-b4e1-4f7e-94d6-f3c612df33a6",
   "metadata": {},
   "outputs": [
    {
     "data": {
      "text/plain": [
       "pandas.core.frame.DataFrame"
      ]
     },
     "execution_count": 99,
     "metadata": {},
     "output_type": "execute_result"
    }
   ],
   "source": [
    "type(s3)"
   ]
  },
  {
   "cell_type": "code",
   "execution_count": 100,
   "id": "0595c0f4-442d-4fc2-9956-973a72d6ee0b",
   "metadata": {},
   "outputs": [
    {
     "data": {
      "text/plain": [
       "pandas.core.series.Series"
      ]
     },
     "execution_count": 100,
     "metadata": {},
     "output_type": "execute_result"
    }
   ],
   "source": [
    "type(s1)"
   ]
  },
  {
   "cell_type": "code",
   "execution_count": null,
   "id": "c98cc6bb-238e-4b33-99a5-302a1d2af709",
   "metadata": {},
   "outputs": [],
   "source": []
  }
 ],
 "metadata": {
  "kernelspec": {
   "display_name": "Python 3 (ipykernel)",
   "language": "python",
   "name": "python3"
  },
  "language_info": {
   "codemirror_mode": {
    "name": "ipython",
    "version": 3
   },
   "file_extension": ".py",
   "mimetype": "text/x-python",
   "name": "python",
   "nbconvert_exporter": "python",
   "pygments_lexer": "ipython3",
   "version": "3.11.7"
  }
 },
 "nbformat": 4,
 "nbformat_minor": 5
}
