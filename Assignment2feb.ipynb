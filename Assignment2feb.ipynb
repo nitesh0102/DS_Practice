{
 "cells": [
  {
   "cell_type": "code",
   "execution_count": null,
   "id": "a4f96f2a-e774-4304-bfd9-673e63a79200",
   "metadata": {},
   "outputs": [],
   "source": [
    "### Que 1 "
   ]
  },
  {
   "cell_type": "code",
   "execution_count": null,
   "id": "f7a832a0-af2e-4d9c-b532-1d2c7a6b550e",
   "metadata": {},
   "outputs": [],
   "source": [
    "What are the characteristics of the tuples? Is tuple immutable?"
   ]
  },
  {
   "cell_type": "code",
   "execution_count": 1,
   "id": "c7df6839-05c5-4b36-b57f-0f265f22b4b1",
   "metadata": {},
   "outputs": [
    {
     "ename": "SyntaxError",
     "evalue": "invalid syntax (1649293946.py, line 1)",
     "output_type": "error",
     "traceback": [
      "\u001b[0;36m  Input \u001b[0;32mIn [1]\u001b[0;36m\u001b[0m\n\u001b[0;31m    Ans: Tuple is assigned using ()\u001b[0m\n\u001b[0m                           ^\u001b[0m\n\u001b[0;31mSyntaxError\u001b[0m\u001b[0;31m:\u001b[0m invalid syntax\n"
     ]
    }
   ],
   "source": [
    "Ans: Tuple is assigned using (), Tuple is ordered, Tuples allow duplicates, Tupples are immutable."
   ]
  },
  {
   "cell_type": "code",
   "execution_count": null,
   "id": "3436b561-3f9b-40de-8493-6b669502e163",
   "metadata": {},
   "outputs": [],
   "source": [
    "###Que 2"
   ]
  },
  {
   "cell_type": "code",
   "execution_count": null,
   "id": "37dbda63-ab29-4ef6-b6a3-2aa43db41b3a",
   "metadata": {},
   "outputs": [],
   "source": [
    "Q2. What are the two tuple methods in python? Give an example of each method. Give a reason why\n",
    "tuples have only two in-built methods as compared to Lists."
   ]
  },
  {
   "cell_type": "code",
   "execution_count": null,
   "id": "d5a7025c-1def-481e-a05c-49c80a8a69f1",
   "metadata": {},
   "outputs": [],
   "source": [
    "Ans: tupp.count(.) , tupp.index(.)"
   ]
  },
  {
   "cell_type": "code",
   "execution_count": 2,
   "id": "8c09ef3f-b9be-4f59-99cf-afcff9b5af99",
   "metadata": {},
   "outputs": [],
   "source": [
    "tupp = (1,2,3,4,5,5,6,6,6,6,6,7)"
   ]
  },
  {
   "cell_type": "code",
   "execution_count": 3,
   "id": "4e396d76-5dcc-4a21-a578-e016ca0ba52a",
   "metadata": {},
   "outputs": [
    {
     "data": {
      "text/plain": [
       "2"
      ]
     },
     "execution_count": 3,
     "metadata": {},
     "output_type": "execute_result"
    }
   ],
   "source": [
    "tupp.count(5)"
   ]
  },
  {
   "cell_type": "code",
   "execution_count": 9,
   "id": "adc6c28e-f8bc-4d41-ab75-715b659363b8",
   "metadata": {},
   "outputs": [
    {
     "data": {
      "text/plain": [
       "6"
      ]
     },
     "execution_count": 9,
     "metadata": {},
     "output_type": "execute_result"
    }
   ],
   "source": [
    "tupp.index(6)"
   ]
  },
  {
   "cell_type": "code",
   "execution_count": null,
   "id": "c1c9822e-73b6-4de0-872d-0ed25a51ca9d",
   "metadata": {},
   "outputs": [],
   "source": [
    "Q3. Which collection datatypes in python do not allow duplicate items? Write a code using a set to remove\n",
    "duplicates from the given list.\n",
    "List = [1, 1, 1, 2, 1, 3, 1, 4, 2, 1, 2, 2, 2, 3, 2, 4, 3, 1, 3, 2, 3, 3, 3, 4, 4, 1, 4, 2, 4, 3, 4, 4]"
   ]
  },
  {
   "cell_type": "code",
   "execution_count": 30,
   "id": "adf44f79-7071-441e-92f5-f8727bfe7c9a",
   "metadata": {},
   "outputs": [],
   "source": [
    "List = [1, 1, 1, 2, 1, 3, 1, 4, 2, 1, 2, 2, 2, 3, 2, 4, 3, 1, 3, 2, 3, 3, 3, 4, 4, 1, 4, 2, 4, 3, 4, 4]"
   ]
  },
  {
   "cell_type": "code",
   "execution_count": 34,
   "id": "8ca5ecdb-febd-40a8-9016-58ab477f2157",
   "metadata": {},
   "outputs": [
    {
     "name": "stdout",
     "output_type": "stream",
     "text": [
      "[1, 1, 1, 2, 1, 3, 1, 4, 2, 1, 2, 2, 2, 3, 2, 4, 3, 1, 3, 2, 3, 3, 3, 4, 4, 1, 4, 2, 4, 3, 4, 4]\n"
     ]
    }
   ],
   "source": [
    "print(List[:])"
   ]
  },
  {
   "cell_type": "code",
   "execution_count": 36,
   "id": "0ba5a6f7-db46-48cd-b818-033f57d3b51a",
   "metadata": {},
   "outputs": [],
   "source": [
    "x = [1,2,3,4,4,5,6,4,5,5,6,6,6,4,4,5,4,3,3,4,5,4]"
   ]
  },
  {
   "cell_type": "code",
   "execution_count": 37,
   "id": "6b7dddbd-a4f4-472f-a8b9-b26b148f8989",
   "metadata": {},
   "outputs": [
    {
     "name": "stdout",
     "output_type": "stream",
     "text": [
      "[1, 2, 3, 4, 4, 5, 6, 4, 5, 5, 6, 6, 6, 4, 4, 5, 4, 3, 3, 4, 5, 4]\n"
     ]
    }
   ],
   "source": [
    "print(x)"
   ]
  },
  {
   "cell_type": "code",
   "execution_count": 41,
   "id": "48319110-831a-4854-b48a-f96e68b15599",
   "metadata": {},
   "outputs": [
    {
     "name": "stdout",
     "output_type": "stream",
     "text": [
      "1\n",
      "2\n",
      "3\n",
      "4\n",
      "4\n",
      "5\n",
      "6\n",
      "4\n",
      "5\n",
      "5\n",
      "6\n",
      "6\n",
      "6\n",
      "4\n",
      "4\n",
      "5\n",
      "4\n",
      "3\n",
      "3\n",
      "4\n",
      "5\n",
      "4\n"
     ]
    }
   ],
   "source": [
    "for a in range(len(x)):\n",
    "    print(x[a])"
   ]
  },
  {
   "cell_type": "code",
   "execution_count": 44,
   "id": "5c83f20b-c64d-4fc0-a4dd-4b0e54d9edc4",
   "metadata": {},
   "outputs": [],
   "source": [
    "List = [1, 1, 1, 2, 1, 3, 1, 4, 2, 1, 2, 2, 2, 3, 2, 4, 3, 1, 3, 2, 3, 3, 3, 4, 4, 1, 4, 2, 4, 3, 4, 4]"
   ]
  },
  {
   "cell_type": "code",
   "execution_count": 45,
   "id": "65d3d5a2-9ff8-4f2e-a5ce-f950ecdab9f1",
   "metadata": {},
   "outputs": [],
   "source": [
    "my_set = set(List)"
   ]
  },
  {
   "cell_type": "code",
   "execution_count": 46,
   "id": "034ec62d-40bd-4458-9298-03d141ab493b",
   "metadata": {},
   "outputs": [
    {
     "data": {
      "text/plain": [
       "{1, 2, 3, 4}"
      ]
     },
     "execution_count": 46,
     "metadata": {},
     "output_type": "execute_result"
    }
   ],
   "source": [
    "[my_set"
   ]
  },
  {
   "cell_type": "code",
   "execution_count": null,
   "id": "5f59fec9-d075-4ba1-a0f6-bf885c67ab86",
   "metadata": {},
   "outputs": [],
   "source": [
    "Q4. Explain the difference between the union() and update() methods for a set. Give an example of\n",
    "each method."
   ]
  },
  {
   "cell_type": "code",
   "execution_count": 48,
   "id": "61db346e-4fdf-441a-b5c1-05eb448b9bba",
   "metadata": {},
   "outputs": [],
   "source": [
    "set = {1,2,3,4}"
   ]
  },
  {
   "cell_type": "code",
   "execution_count": 49,
   "id": "c1a9f77a-b7be-4c21-ac70-c300f0d04b1d",
   "metadata": {},
   "outputs": [
    {
     "data": {
      "text/plain": [
       "{1, 2, 3, 4}"
      ]
     },
     "execution_count": 49,
     "metadata": {},
     "output_type": "execute_result"
    }
   ],
   "source": [
    "set"
   ]
  },
  {
   "cell_type": "code",
   "execution_count": 51,
   "id": "4c24dcb7-88f9-4f65-8b0c-14be4eca7d50",
   "metadata": {},
   "outputs": [],
   "source": [
    "set.update({5})"
   ]
  },
  {
   "cell_type": "code",
   "execution_count": 52,
   "id": "783f4a62-bc60-475a-8b93-9dba1f58fd3f",
   "metadata": {},
   "outputs": [
    {
     "data": {
      "text/plain": [
       "{1, 2, 3, 4, 5}"
      ]
     },
     "execution_count": 52,
     "metadata": {},
     "output_type": "execute_result"
    }
   ],
   "source": [
    "set"
   ]
  },
  {
   "cell_type": "code",
   "execution_count": 54,
   "id": "054185ce-7119-47aa-8d3e-48a99cc57b85",
   "metadata": {},
   "outputs": [
    {
     "data": {
      "text/plain": [
       "{1, 2, 3, 4, 5, 6}"
      ]
     },
     "execution_count": 54,
     "metadata": {},
     "output_type": "execute_result"
    }
   ],
   "source": [
    "set.union({6})"
   ]
  },
  {
   "cell_type": "code",
   "execution_count": 55,
   "id": "c421ab6b-44f3-4713-a937-7645f312deef",
   "metadata": {},
   "outputs": [
    {
     "data": {
      "text/plain": [
       "{1, 2, 3, 4, 5}"
      ]
     },
     "execution_count": 55,
     "metadata": {},
     "output_type": "execute_result"
    }
   ],
   "source": [
    "set"
   ]
  },
  {
   "cell_type": "code",
   "execution_count": null,
   "id": "2fa23332-dcfc-44a2-a4e0-71ded2b6417e",
   "metadata": {},
   "outputs": [],
   "source": [
    "Q5. What is a dictionary? Give an example. Also, state whether a dictionary is ordered or unordered."
   ]
  },
  {
   "cell_type": "code",
   "execution_count": null,
   "id": "d55b6ae8-94a4-4541-869c-92e96a986898",
   "metadata": {},
   "outputs": [],
   "source": [
    "Dictionaries are used to store data value in key:value pairs."
   ]
  },
  {
   "cell_type": "code",
   "execution_count": 66,
   "id": "33bc9d88-6bbb-4024-8e4e-718e3c144059",
   "metadata": {},
   "outputs": [],
   "source": [
    "Dict = {\"a\":1, \"b\":2, \"c\":[1,2,3]}"
   ]
  },
  {
   "cell_type": "code",
   "execution_count": 67,
   "id": "053c4f45-d868-42f5-b2be-e5573aa80b2b",
   "metadata": {},
   "outputs": [
    {
     "data": {
      "text/plain": [
       "{'a': 1, 'b': 2, 'c': [1, 2, 3]}"
      ]
     },
     "execution_count": 67,
     "metadata": {},
     "output_type": "execute_result"
    }
   ],
   "source": [
    "Dict"
   ]
  },
  {
   "cell_type": "code",
   "execution_count": null,
   "id": "41c73ecc-4961-413c-8703-04bd685714ca",
   "metadata": {},
   "outputs": [],
   "source": [
    "A dictionary is ordered "
   ]
  },
  {
   "cell_type": "code",
   "execution_count": null,
   "id": "bdf59bdc-efc7-49f8-8a0c-783c1fa06549",
   "metadata": {},
   "outputs": [],
   "source": [
    "Q6. Can we create a nested dictionary? If so, please give an example by creating a simple one-level\n",
    "nested dictionary."
   ]
  },
  {
   "cell_type": "code",
   "execution_count": null,
   "id": "778eb23e-0e77-4437-a1dc-bc2b4a10d97d",
   "metadata": {},
   "outputs": [],
   "source": [
    "Yes we can create a nested dictionary"
   ]
  },
  {
   "cell_type": "code",
   "execution_count": 70,
   "id": "9981c894-1074-4814-ad6c-4ebda5d4b99c",
   "metadata": {},
   "outputs": [],
   "source": [
    "Dict2 = {'a': 1, 'b': 2, 'c': [1, 2, 3], 'd':{\"e\":2,\"f\":3}}"
   ]
  },
  {
   "cell_type": "code",
   "execution_count": 71,
   "id": "b0e4f17f-7840-4652-880f-0b9265fc4091",
   "metadata": {},
   "outputs": [
    {
     "data": {
      "text/plain": [
       "{'a': 1, 'b': 2, 'c': [1, 2, 3], 'd': {'e': 2, 'f': 3}}"
      ]
     },
     "execution_count": 71,
     "metadata": {},
     "output_type": "execute_result"
    }
   ],
   "source": [
    "Dict2"
   ]
  },
  {
   "cell_type": "code",
   "execution_count": 77,
   "id": "776fe0b6-ac21-45d0-b19f-6c13064396ad",
   "metadata": {},
   "outputs": [
    {
     "ename": "NameError",
     "evalue": "name 'd' is not defined",
     "output_type": "error",
     "traceback": [
      "\u001b[0;31m---------------------------------------------------------------------------\u001b[0m",
      "\u001b[0;31mNameError\u001b[0m                                 Traceback (most recent call last)",
      "Input \u001b[0;32mIn [77]\u001b[0m, in \u001b[0;36m<cell line: 1>\u001b[0;34m()\u001b[0m\n\u001b[0;32m----> 1\u001b[0m Dict2\u001b[38;5;241m.\u001b[39mKey \u001b[38;5;241m=\u001b[39m \u001b[43md\u001b[49m\n",
      "\u001b[0;31mNameError\u001b[0m: name 'd' is not defined"
     ]
    }
   ],
   "source": []
  },
  {
   "cell_type": "code",
   "execution_count": null,
   "id": "4a9e68f3-c693-4f76-91ca-ec0148882a92",
   "metadata": {},
   "outputs": [],
   "source": [
    "Q8. What are the three view objects in dictionaries? Use the three in-built methods in python to display\n",
    "these three view objects for the given dictionary.\n",
    "dict1 = {'Sport': 'Cricket' , 'Teams': ['India', 'Australia', 'England', 'South Africa', 'Sri Lanka', 'New Zealand']}"
   ]
  },
  {
   "cell_type": "code",
   "execution_count": 2,
   "id": "bf42d51f-1b05-47c2-a945-9d3397157970",
   "metadata": {},
   "outputs": [],
   "source": [
    "dict1 = {'Sport': 'Cricket' , 'Teams': ['India', 'Australia', 'England', 'South Africa', 'Sri Lanka', 'New Zealand']}"
   ]
  },
  {
   "cell_type": "code",
   "execution_count": null,
   "id": "515dd8bc-2d02-4799-823d-0fce3d8b5271",
   "metadata": {},
   "outputs": [],
   "source": [
    "dict1 = {'Sport': 'Cricket' , 'Teams': ['India', 'Australia', 'England', 'South Africa', 'Sri Lanka', 'New Zealand']}"
   ]
  },
  {
   "cell_type": "code",
   "execution_count": 5,
   "id": "f992636c-124c-4c2f-93ad-d1f31223b1c7",
   "metadata": {},
   "outputs": [
    {
     "data": {
      "text/plain": [
       "dict_keys(['Sport', 'Teams'])"
      ]
     },
     "execution_count": 5,
     "metadata": {},
     "output_type": "execute_result"
    }
   ],
   "source": [
    "dict1.keys()"
   ]
  },
  {
   "cell_type": "code",
   "execution_count": 6,
   "id": "09012c8d-10fd-404e-8443-36c33a4f2a84",
   "metadata": {},
   "outputs": [
    {
     "data": {
      "text/plain": [
       "dict_values(['Cricket', ['India', 'Australia', 'England', 'South Africa', 'Sri Lanka', 'New Zealand']])"
      ]
     },
     "execution_count": 6,
     "metadata": {},
     "output_type": "execute_result"
    }
   ],
   "source": [
    "dict1.values()"
   ]
  },
  {
   "cell_type": "code",
   "execution_count": 7,
   "id": "1ecd9b96-9c00-4840-aa6b-5f55f0734201",
   "metadata": {},
   "outputs": [
    {
     "name": "stdout",
     "output_type": "stream",
     "text": [
      "{'Sport': 'Cricket', 'Teams': ['India', 'Australia', 'England', 'South Africa', 'Sri Lanka', 'New Zealand']}\n"
     ]
    }
   ],
   "source": [
    "print(dict1)"
   ]
  },
  {
   "cell_type": "code",
   "execution_count": 9,
   "id": "3eb0d683-9be0-476c-899e-1e815b250277",
   "metadata": {},
   "outputs": [
    {
     "name": "stdout",
     "output_type": "stream",
     "text": [
      "dict_keys(['Sport', 'Teams'])\n"
     ]
    }
   ],
   "source": [
    "print(dict1.keys())"
   ]
  },
  {
   "cell_type": "code",
   "execution_count": null,
   "id": "76fdc698-9625-4236-990c-4619e0389189",
   "metadata": {},
   "outputs": [],
   "source": []
  }
 ],
 "metadata": {
  "kernelspec": {
   "display_name": "anaconda-2022.05-py39",
   "language": "python",
   "name": "conda-env-anaconda-2022.05-py39-py"
  },
  "language_info": {
   "codemirror_mode": {
    "name": "ipython",
    "version": 3
   },
   "file_extension": ".py",
   "mimetype": "text/x-python",
   "name": "python",
   "nbconvert_exporter": "python",
   "pygments_lexer": "ipython3",
   "version": "3.9.12"
  }
 },
 "nbformat": 4,
 "nbformat_minor": 5
}
