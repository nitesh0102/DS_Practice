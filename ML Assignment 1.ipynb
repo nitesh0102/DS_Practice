{
 "cells": [
  {
   "cell_type": "code",
   "execution_count": 1,
   "id": "97b91aac-d8d9-4d64-a8b3-dfe9569e79a8",
   "metadata": {},
   "outputs": [],
   "source": [
    "## Q1"
   ]
  },
  {
   "cell_type": "code",
   "execution_count": null,
   "id": "d990a508-dfd2-46a7-9f2b-cda6bd249a80",
   "metadata": {},
   "outputs": [],
   "source": [
    "Aritifical intelligence is the simulation of human intelligence process by machines especially computer systems. \n",
    "Ex: NLP"
   ]
  },
  {
   "cell_type": "code",
   "execution_count": null,
   "id": "56716a65-6b5a-4bf4-a64c-189291b3da75",
   "metadata": {},
   "outputs": [],
   "source": [
    "Machine Learning : ML is a branch of artifical intelligence and computer science that focuses on using the data\n",
    "and algorithms to enable AI to imitate the way human learn, graudally improving its accuracy "
   ]
  },
  {
   "cell_type": "markdown",
   "id": "239ce520-36cb-42ce-934a-a9cb8cd3202e",
   "metadata": {},
   "source": [
    "Deep Learning : DL is a subset of Machine Learning that uses mutli layered neural networks called deep neural networks,\n",
    "to simulate the complex decision making power of the human brain. "
   ]
  },
  {
   "cell_type": "code",
   "execution_count": null,
   "id": "fea2f90a-db10-4040-a8a4-7207b2ebc09b",
   "metadata": {},
   "outputs": [],
   "source": []
  },
  {
   "cell_type": "code",
   "execution_count": 2,
   "id": "75be142e-25fa-477f-9b19-60e468dc30f3",
   "metadata": {},
   "outputs": [],
   "source": [
    "## Q2"
   ]
  },
  {
   "cell_type": "code",
   "execution_count": null,
   "id": "5a407317-671c-4a65-9937-08b2a7dfcd30",
   "metadata": {},
   "outputs": [],
   "source": [
    "Supervised Learning : SL is a category of machine learning that uses labelled datasets to train algorithms to predict outcomes\n",
    "and recognize patterns. Supervised learning is often used for tasks like classification, regression and object detection. \n",
    "For example, a labeled dataset of images of Elephant, Camel and Cow would have each image tagged with either “Elephant” , “Camel”or “Cow.”"
   ]
  },
  {
   "cell_type": "code",
   "execution_count": null,
   "id": "9a41f386-3df1-46bf-aea0-fe74f9bf0a58",
   "metadata": {},
   "outputs": [],
   "source": []
  },
  {
   "cell_type": "code",
   "execution_count": 3,
   "id": "19be1e53-81a6-4284-ac31-f32b6b3dca0e",
   "metadata": {},
   "outputs": [],
   "source": [
    "## Q3"
   ]
  },
  {
   "cell_type": "markdown",
   "id": "dad34118-c2ac-4b7a-ab2f-58ffa4052599",
   "metadata": {},
   "source": [
    "Unsupervised Learning: Unsupervised learning in artificial intelligence is a type of machine learning that learns from data without human supervision. \n",
    "Unlike supervised learning, unsupervised machine learning models are given unlabeled data and allowed to discover patterns\n",
    "and insights without any explicit guidance or instruction."
   ]
  },
  {
   "cell_type": "code",
   "execution_count": null,
   "id": "4131ab61-fbdf-4049-aa07-fe3431691064",
   "metadata": {},
   "outputs": [],
   "source": []
  },
  {
   "cell_type": "code",
   "execution_count": 5,
   "id": "8b304324-7f12-484f-8a1b-77f16afa955b",
   "metadata": {},
   "outputs": [],
   "source": [
    "## Q4\n"
   ]
  },
  {
   "cell_type": "code",
   "execution_count": null,
   "id": "07c6ce3a-3848-44bb-a7d8-d46355388111",
   "metadata": {},
   "outputs": [],
   "source": []
  },
  {
   "cell_type": "code",
   "execution_count": null,
   "id": "7f87dbac-2df5-431b-b276-d299b8c4f7da",
   "metadata": {},
   "outputs": [],
   "source": []
  },
  {
   "cell_type": "code",
   "execution_count": null,
   "id": "53a17701-e979-4c47-8fc4-626cc9d6f295",
   "metadata": {},
   "outputs": [],
   "source": []
  },
  {
   "cell_type": "code",
   "execution_count": null,
   "id": "3569f40f-7f7c-48f1-b41c-771ce9409817",
   "metadata": {},
   "outputs": [],
   "source": []
  },
  {
   "cell_type": "code",
   "execution_count": 6,
   "id": "42fd4a95-d049-4c1b-b989-56eb80639c9c",
   "metadata": {},
   "outputs": [],
   "source": [
    "# Q5"
   ]
  },
  {
   "cell_type": "code",
   "execution_count": null,
   "id": "63a47b08-c14d-4a62-a828-4c1f8a0e9075",
   "metadata": {},
   "outputs": [],
   "source": [
    "SuperVised Learning vs Unsupervised Learning \n",
    "\n",
    "1. SL uses labelled data\n",
    "2. SL is less computational complex\n",
    "3. SL uses off-line analysis and USL uses real-time analysis of data\n",
    "4. SL is more accurate\n",
    "5. In SL desired output is given\n",
    "6. In supervised learning it is not possible to learn larger and more complex models than in unsupervised learning\n",
    "7. In supervised learning training data is used to infer model \n",
    "8. Supervised learning is also called classification and Unsupervised learning is also called clustering.\n",
    "9. WE can test a SL model and can't test USL model \n",
    "10. ex: Optical Character recognition - SL\n",
    "        Find a face in an image - USL \n"
   ]
  },
  {
   "cell_type": "code",
   "execution_count": null,
   "id": "d01b46f0-b57d-45f7-9cd1-dfe23c093795",
   "metadata": {},
   "outputs": [],
   "source": []
  },
  {
   "cell_type": "code",
   "execution_count": 7,
   "id": "4b368385-9b55-4973-a6d0-d19b0626b5d0",
   "metadata": {},
   "outputs": [],
   "source": [
    "## Q6"
   ]
  },
  {
   "cell_type": "code",
   "execution_count": null,
   "id": "034db0dd-50cf-49b5-9fe8-9ad71169ca60",
   "metadata": {},
   "outputs": [],
   "source": [
    "Training Dataset: The sample of data used to fit the model."
   ]
  },
  {
   "cell_type": "markdown",
   "id": "4c30570a-8b9f-40bc-bab9-ac6cb15da918",
   "metadata": {},
   "source": [
    "Validation Dataset: The sample of data used to provide an unbiased evaluation of a model fit on the training dataset while tuning model hyperparameters.\n",
    "The evaluation becomes more biased as skill on the validation dataset is incorporated into the model configuration."
   ]
  },
  {
   "cell_type": "code",
   "execution_count": null,
   "id": "64160a02-864e-4390-9698-9b4ef726a4a2",
   "metadata": {},
   "outputs": [],
   "source": [
    "The validation set is used to evaluate a given model, but this is for frequent evaluation. \n",
    "We, as machine learning engineers, use this data to fine-tune the model hyperparameters. \n",
    "Hence the model occasionally sees this data, but never does it “Learn” from this. \n",
    "We use the validation set results, and update higher level hyperparameters. So the validation set affects a model, but only indirectly.\n",
    "The validation set is also known as the Dev set or the Development set. \n",
    "This makes sense since this dataset helps during the “development” stage of the model."
   ]
  },
  {
   "cell_type": "code",
   "execution_count": null,
   "id": "43c0d6f4-c207-46f6-9ff4-645f3aab313b",
   "metadata": {},
   "outputs": [],
   "source": [
    "Test Dataset: The sample of data used to provide an unbiased evaluation of a final model fit on the training dataset."
   ]
  },
  {
   "cell_type": "code",
   "execution_count": null,
   "id": "c325edf6-ebc6-42ec-b908-e44049c4bf02",
   "metadata": {},
   "outputs": [],
   "source": [
    "The Test dataset provides the gold standard used to evaluate the model. \n",
    "It is only used once a model is completely trained(using the train and validation sets).\n",
    "The test set is generally what is used to evaluate competing models (For example on many Kaggle competitions, \n",
    "the validation set is released initially along with the training set and the actual test set is only released when the competition is about to close, and it is the result of the the model on the Test set that decides the winner). Many a times the validation set is used as the test set, but it is not good practice. The test set is generally well curated. \n",
    "It contains carefully sampled data that spans the various classes that the model would face, when used in the real world."
   ]
  },
  {
   "cell_type": "code",
   "execution_count": null,
   "id": "694dbcdd-6bcb-47b5-9496-b6f8c70d4416",
   "metadata": {},
   "outputs": [],
   "source": []
  },
  {
   "cell_type": "code",
   "execution_count": 9,
   "id": "5fe25a64-0542-4de7-86b5-14dc9b4f1e5d",
   "metadata": {},
   "outputs": [],
   "source": [
    "### Q7"
   ]
  },
  {
   "cell_type": "code",
   "execution_count": null,
   "id": "4682a970-5c60-49ff-8e71-84dabf1d0e54",
   "metadata": {},
   "outputs": [],
   "source": [
    "Unsupervised Anomaly Detection: Unsupervised anomaly detection occurs when there are no labeled anomalies in the training data, \n",
    "and the model needs to identify anomalies without prior knowledge of what constitutes an anomaly. \n",
    "The model’s task is to find data points that deviate significantly from the majority of the data, \n",
    "making it suitable for cases where anomalies are rare or poorly understood.\n",
    "ML algorithm for unstructured data:\n",
    "- K-means\n",
    "- One-class support vector machine"
   ]
  },
  {
   "cell_type": "code",
   "execution_count": null,
   "id": "4f253fc3-c8a1-43ca-a917-d72893af7a42",
   "metadata": {},
   "outputs": [],
   "source": []
  },
  {
   "cell_type": "code",
   "execution_count": 10,
   "id": "3ee0fe2f-ee0c-4488-ad1a-1043969a2c7d",
   "metadata": {},
   "outputs": [],
   "source": [
    "### Q8"
   ]
  },
  {
   "cell_type": "code",
   "execution_count": null,
   "id": "21cea72d-9fac-499e-8147-26951796e8a7",
   "metadata": {},
   "outputs": [],
   "source": [
    "SL algorithms :\n",
    "1. Classification \n",
    "2. Regression \n",
    "\n",
    "Linear Regression , Logistic regression, Decision tree, Random forest, Support vector machine, K nearest neighbor, Gradient boosting "
   ]
  },
  {
   "cell_type": "code",
   "execution_count": null,
   "id": "e79c6a2c-8268-40b0-8489-6d6ba3611ec2",
   "metadata": {},
   "outputs": [],
   "source": [
    "USL algorithms: \n",
    "1. Clustering : K-means,hierarchial, Density based ("
   ]
  }
 ],
 "metadata": {
  "kernelspec": {
   "display_name": "Python 3 (ipykernel)",
   "language": "python",
   "name": "python3"
  },
  "language_info": {
   "codemirror_mode": {
    "name": "ipython",
    "version": 3
   },
   "file_extension": ".py",
   "mimetype": "text/x-python",
   "name": "python",
   "nbconvert_exporter": "python",
   "pygments_lexer": "ipython3",
   "version": "3.11.7"
  }
 },
 "nbformat": 4,
 "nbformat_minor": 5
}
